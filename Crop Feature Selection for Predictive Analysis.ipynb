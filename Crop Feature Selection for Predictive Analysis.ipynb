{
 "cells": [
  {
   "cell_type": "code",
   "execution_count": 15,
   "id": "e660c35f",
   "metadata": {},
   "outputs": [],
   "source": [
    "# Import libraries\n",
    "import pandas as pd\n",
    "import numpy as np\n",
    "from sklearn.linear_model import LogisticRegression\n",
    "from sklearn.model_selection import train_test_split\n",
    "from sklearn import metrics\n",
    "import matplotlib.pyplot as plt\n",
    "import seaborn as sns\n",
    "\n",
    "# Load the dataset\n",
    "crops = pd.read_csv(\"C:/Users/sylwi/OneDrive/Documents/GitHub/Soil_Measures/soil_measures_dc.csv\")"
   ]
  },
  {
   "cell_type": "code",
   "execution_count": 16,
   "id": "b24f743a",
   "metadata": {},
   "outputs": [
    {
     "name": "stdout",
     "output_type": "stream",
     "text": [
      "N       0\n",
      "P       0\n",
      "K       0\n",
      "ph      0\n",
      "crop    0\n",
      "dtype: int64\n"
     ]
    }
   ],
   "source": [
    "# Check for missing values\n",
    "print(crops.isna().sum().sort_values())"
   ]
  },
  {
   "cell_type": "code",
   "execution_count": 5,
   "id": "2bce11aa",
   "metadata": {},
   "outputs": [
    {
     "name": "stdout",
     "output_type": "stream",
     "text": [
      "crop\n",
      "rice           100\n",
      "maize          100\n",
      "jute           100\n",
      "cotton         100\n",
      "coconut        100\n",
      "papaya         100\n",
      "orange         100\n",
      "apple          100\n",
      "muskmelon      100\n",
      "watermelon     100\n",
      "grapes         100\n",
      "mango          100\n",
      "banana         100\n",
      "pomegranate    100\n",
      "lentil         100\n",
      "blackgram      100\n",
      "mungbean       100\n",
      "mothbeans      100\n",
      "pigeonpeas     100\n",
      "kidneybeans    100\n",
      "chickpea       100\n",
      "coffee         100\n",
      "Name: count, dtype: int64\n"
     ]
    }
   ],
   "source": [
    "print(crops['crop'].value_counts())\n"
   ]
  },
  {
   "cell_type": "code",
   "execution_count": 6,
   "id": "9063a093",
   "metadata": {},
   "outputs": [
    {
     "name": "stdout",
     "output_type": "stream",
     "text": [
      "['rice' 'maize' 'chickpea' 'kidneybeans' 'pigeonpeas' 'mothbeans'\n",
      " 'mungbean' 'blackgram' 'lentil' 'pomegranate' 'banana' 'mango' 'grapes'\n",
      " 'watermelon' 'muskmelon' 'apple' 'orange' 'papaya' 'coconut' 'cotton'\n",
      " 'jute' 'coffee']\n"
     ]
    }
   ],
   "source": [
    "# Check 'crop' column to see if it's a binary or multi-label feature\n",
    "print(crops['crop'].unique())"
   ]
  },
  {
   "cell_type": "code",
   "execution_count": 17,
   "id": "5749a6e7",
   "metadata": {},
   "outputs": [],
   "source": [
    "# The crop column is a multi-label feature \n",
    "# Create a variable containing all features except for 'crop' column\n",
    "X = crops.drop(columns = \"crop\")\n",
    "\n",
    "# Create a variable containing only the 'crop' column\n",
    "y = crops[\"crop\"]\n",
    "\n",
    "# Split into training and test sets to avoid data leakage\n",
    "X_train, X_test, y_train, y_test = train_test_split(X, y, test_size=0.3, random_state=22)"
   ]
  },
  {
   "cell_type": "code",
   "execution_count": 18,
   "id": "4d944b11",
   "metadata": {},
   "outputs": [
    {
     "data": {
      "text/plain": [
       "array([[<Axes: title={'center': 'N'}>, <Axes: title={'center': 'P'}>],\n",
       "       [<Axes: title={'center': 'K'}>, <Axes: title={'center': 'ph'}>]],\n",
       "      dtype=object)"
      ]
     },
     "execution_count": 18,
     "metadata": {},
     "output_type": "execute_result"
    },
    {
     "data": {
      "image/png": "[encoded data removed]",
      "text/plain": [
       "<Figure size 400x400 with 4 Axes>"
      ]
     },
     "metadata": {},
     "output_type": "display_data"
    }
   ],
   "source": [
    "# Check the shape of the features and target variables\n",
    "crops.hist(figsize=(4,4))"
   ]
  },
  {
   "cell_type": "code",
   "execution_count": 19,
   "id": "b029a3d7",
   "metadata": {},
   "outputs": [
    {
     "name": "stdout",
     "output_type": "stream",
     "text": [
      "    Statistic       p-value\n",
      "K    0.605532  0.000000e+00\n",
      "N    0.915396  2.131412e-33\n",
      "P    0.911168  4.709313e-34\n",
      "ph   0.979104  1.958969e-17\n"
     ]
    }
   ],
   "source": [
    "# We can also test normality using the Shapiro-Wilk test \n",
    "from scipy.stats import shapiro, kstest\n",
    "\n",
    "# Exclude 'crop' and apply Shapiro-Wilk test to the remaining features\n",
    "columns_to_test = crops.columns.difference(['crop'])\n",
    "shapiro_results = crops[columns_to_test].apply(lambda x: shapiro(x), result_type='expand').T\n",
    "shapiro_results.columns = ['Statistic', 'p-value']\n",
    "\n",
    "print(shapiro_results)"
   ]
  },
  {
   "cell_type": "code",
   "execution_count": 20,
   "id": "62e754b0",
   "metadata": {},
   "outputs": [
    {
     "data": {
      "text/plain": [
       "<Axes: >"
      ]
     },
     "execution_count": 20,
     "metadata": {},
     "output_type": "execute_result"
    },
    {
     "data": {
      "image/png": "[encoded data removed]",
      "text/plain": [
       "<Figure size 640x480 with 1 Axes>"
      ]
     },
     "metadata": {},
     "output_type": "display_data"
    }
   ],
   "source": [
    "# The above subplots show that N, P, and K follow a right skewed distribution and that pH resembled a normal distribution.\n",
    "# Similarly, the Shapiro-Wilk test showcases very small p-values for the features indicating that none are normally distributed\n",
    "# Visualize the distribution of the features using a boxplot\n",
    "crops.boxplot(patch_artist=True, notch=True)"
   ]
  },
  {
   "cell_type": "code",
   "execution_count": 21,
   "id": "c9f2b4f4",
   "metadata": {},
   "outputs": [
    {
     "data": {
      "text/html": [
       "<div>\n",
       "<style scoped>\n",
       "    .dataframe tbody tr th:only-of-type {\n",
       "        vertical-align: middle;\n",
       "    }\n",
       "\n",
       "    .dataframe tbody tr th {\n",
       "        vertical-align: top;\n",
       "    }\n",
       "\n",
       "    .dataframe thead th {\n",
       "        text-align: right;\n",
       "    }\n",
       "</style>\n",
       "<table border=\"1\" class=\"dataframe\">\n",
       "  <thead>\n",
       "    <tr style=\"text-align: right;\">\n",
       "      <th></th>\n",
       "      <th>count</th>\n",
       "      <th>mean</th>\n",
       "      <th>std</th>\n",
       "      <th>min</th>\n",
       "      <th>25%</th>\n",
       "      <th>50%</th>\n",
       "      <th>75%</th>\n",
       "      <th>max</th>\n",
       "    </tr>\n",
       "  </thead>\n",
       "  <tbody>\n",
       "    <tr>\n",
       "      <th>N</th>\n",
       "      <td>2200.0</td>\n",
       "      <td>50.55</td>\n",
       "      <td>36.92</td>\n",
       "      <td>0.0</td>\n",
       "      <td>21.00</td>\n",
       "      <td>37.00</td>\n",
       "      <td>84.25</td>\n",
       "      <td>140.00</td>\n",
       "    </tr>\n",
       "    <tr>\n",
       "      <th>K</th>\n",
       "      <td>2200.0</td>\n",
       "      <td>48.15</td>\n",
       "      <td>50.65</td>\n",
       "      <td>5.0</td>\n",
       "      <td>20.00</td>\n",
       "      <td>32.00</td>\n",
       "      <td>49.00</td>\n",
       "      <td>205.00</td>\n",
       "    </tr>\n",
       "    <tr>\n",
       "      <th>P</th>\n",
       "      <td>2200.0</td>\n",
       "      <td>53.36</td>\n",
       "      <td>32.99</td>\n",
       "      <td>5.0</td>\n",
       "      <td>28.00</td>\n",
       "      <td>51.00</td>\n",
       "      <td>68.00</td>\n",
       "      <td>145.00</td>\n",
       "    </tr>\n",
       "    <tr>\n",
       "      <th>ph</th>\n",
       "      <td>2200.0</td>\n",
       "      <td>6.47</td>\n",
       "      <td>0.77</td>\n",
       "      <td>3.5</td>\n",
       "      <td>5.97</td>\n",
       "      <td>6.43</td>\n",
       "      <td>6.92</td>\n",
       "      <td>9.94</td>\n",
       "    </tr>\n",
       "  </tbody>\n",
       "</table>\n",
       "</div>"
      ],
      "text/plain": [
       "     count   mean    std  min    25%    50%    75%     max\n",
       "N   2200.0  50.55  36.92  0.0  21.00  37.00  84.25  140.00\n",
       "K   2200.0  48.15  50.65  5.0  20.00  32.00  49.00  205.00\n",
       "P   2200.0  53.36  32.99  5.0  28.00  51.00  68.00  145.00\n",
       "ph  2200.0   6.47   0.77  3.5   5.97   6.43   6.92    9.94"
      ]
     },
     "execution_count": 21,
     "metadata": {},
     "output_type": "execute_result"
    }
   ],
   "source": [
    "# ph values have a much smaller scale of values in comparison to the other features. P and K also have some outliers\n",
    "# Check the range of our feature variables in the crops dataset\n",
    "crops[[\"N\", \"K\", \"P\", \"ph\"]].describe().T.round(2)"
   ]
  },
  {
   "cell_type": "code",
   "execution_count": 22,
   "id": "7c04e09d",
   "metadata": {},
   "outputs": [],
   "source": [
    "# Remove the data corresponding to outliers for K and P\n",
    "crops = crops[crops['K'] < 150]\n",
    "crops = crops[crops['P'] < 110]"
   ]
  },
  {
   "cell_type": "code",
   "execution_count": 24,
   "id": "be22074d",
   "metadata": {
    "scrolled": false
   },
   "outputs": [
    {
     "data": {
      "text/plain": [
       "array([[<Axes: title={'center': 'K'}>, <Axes: title={'center': 'N'}>],\n",
       "       [<Axes: title={'center': 'P'}>, <Axes: >]], dtype=object)"
      ]
     },
     "execution_count": 24,
     "metadata": {},
     "output_type": "execute_result"
    },
    {
     "data": {
      "image/png": "[encoded data removed]",
      "text/plain": [
       "<Figure size 800x800 with 4 Axes>"
      ]
     },
     "metadata": {},
     "output_type": "display_data"
    }
   ],
   "source": [
    "# Given the skewed distribution, we choose to move forward with the PowerTransformer class\n",
    "from sklearn.preprocessing import PowerTransformer\n",
    "pt = PowerTransformer()\n",
    "crops[[\"K\", \"N\", \"P\"]] = pd.DataFrame(pt.fit_transform(crops[[\"K\", \"N\", \"P\"]]), columns = [\"K\", \"N\", \"P\"])\n",
    "crops[[\"K\", \"N\", \"P\"]].hist(figsize=(8,8))"
   ]
  },
  {
   "cell_type": "code",
   "execution_count": 25,
   "id": "1f34f029",
   "metadata": {},
   "outputs": [
    {
     "data": {
      "text/plain": [
       "K    0.969237\n",
       "N    1.025784\n",
       "P    0.977950\n",
       "dtype: float64"
      ]
     },
     "execution_count": 25,
     "metadata": {},
     "output_type": "execute_result"
    }
   ],
   "source": [
    "# Variance should be close to 1 for normal distribution\n",
    "crops[[\"K\", \"N\", \"P\"]].var()\n"
   ]
  },
  {
   "cell_type": "code",
   "execution_count": 26,
   "id": "20c25777",
   "metadata": {},
   "outputs": [
    {
     "name": "stdout",
     "output_type": "stream",
     "text": [
      "F1-score for N: 0.07597350285728291\n",
      "F1-score for P: 0.11295396163044077\n",
      "F1-score for K: 0.13622076698553245\n",
      "F1-score for ph: 0.03842281397167993\n"
     ]
    }
   ],
   "source": [
    "from sklearn.preprocessing import StandardScaler\n",
    "from sklearn.pipeline import Pipeline\n",
    "from sklearn.metrics import f1_score\n",
    "\n",
    "# Predict the crop using each feature individually building four models, one for each feature\n",
    "\n",
    "# Create an empty dictionary to store each features predictive performance\n",
    "feature_performance = {}\n",
    "\n",
    "# Loop through features\n",
    "for feature in [\"N\", \"P\", \"K\", \"ph\"]:\n",
    "    # Instantiate a StandardScaler object\n",
    "    scaler = StandardScaler()\n",
    "    # Construct a list of steps containing tuples with step names specificed as string\n",
    "    # Create model ensuring multi-class predicition is supported\n",
    "    steps = [(\"scaler\", StandardScaler()),\n",
    "            (\"log_reg\", LogisticRegression(multi_class=\"multinomial\"))]\n",
    "    # Impute using a pipeline, to run a series of transformations and build a model in a single workflow\n",
    "    pipeline = Pipeline(steps)\n",
    "    # Fit the model to the feature in X_train but subsetting it using single square brackets\n",
    "    log_reg_scaled = pipeline.fit(X_train[[feature]], y_train)\n",
    "    # Predict target values using the test set and storing results in y_pred\n",
    "    y_pred = log_reg_scaled.predict(X_test[[feature]]) \n",
    "    \n",
    "    # Calculate F1 score, the harmonic mean of precision and recall\n",
    "    f1 = f1_score(y_test, y_pred, average=\"weighted\")\n",
    "    # Add F1 score pairs to the dictionary\n",
    "    feature_performance[feature] = f1\n",
    "    print(f\"F1-score for {feature}: {f1}\")"
   ]
  }
 ],
 "metadata": {
  "kernelspec": {
   "display_name": "Python 3 (ipykernel)",
   "language": "python",
   "name": "python3"
  },
  "language_info": {
   "codemirror_mode": {
    "name": "ipython",
    "version": 3
   },
   "file_extension": ".py",
   "mimetype": "text/x-python",
   "name": "python",
   "nbconvert_exporter": "python",
   "pygments_lexer": "ipython3",
   "version": "3.11.5"
  }
 },
 "nbformat": 4,
 "nbformat_minor": 5
}
